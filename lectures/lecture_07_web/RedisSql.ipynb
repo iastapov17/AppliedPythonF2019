{
 "cells": [
  {
   "cell_type": "code",
   "execution_count": 1,
   "metadata": {
    "scrolled": true
   },
   "outputs": [
    {
     "name": "stdout",
     "output_type": "stream",
     "text": [
      "Collecting redis\n",
      "\u001b[?25l  Downloading https://files.pythonhosted.org/packages/32/ae/28613a62eea0d53d3db3147f8715f90da07667e99baeedf1010eb400f8c0/redis-3.3.11-py2.py3-none-any.whl (66kB)\n",
      "\u001b[K     |████████████████████████████████| 71kB 622kB/s eta 0:00:01\n",
      "\u001b[?25hInstalling collected packages: redis\n",
      "Successfully installed redis-3.3.11\n",
      "\u001b[33mWARNING: You are using pip version 19.2.3, however version 19.3.1 is available.\n",
      "You should consider upgrading via the 'pip install --upgrade pip' command.\u001b[0m\n"
     ]
    }
   ],
   "source": [
    "!pip install redis"
   ]
  },
  {
   "cell_type": "markdown",
   "metadata": {},
   "source": [
    "# Попробуем сходить в редис"
   ]
  },
  {
   "cell_type": "code",
   "execution_count": 3,
   "metadata": {},
   "outputs": [],
   "source": [
    "import redis"
   ]
  },
  {
   "cell_type": "code",
   "execution_count": 4,
   "metadata": {},
   "outputs": [
    {
     "data": {
      "text/plain": [
       "b'Ruslan'"
      ]
     },
     "execution_count": 4,
     "metadata": {},
     "output_type": "execute_result"
    }
   ],
   "source": [
    "r = redis.StrictRedis(host='ec2-18-202-17-151.eu-west-1.compute.amazonaws.com', port=6379, db=0)\n",
    "r.set('student3', \"Ruslan\")\n",
    "r.get('student3')"
   ]
  },
  {
   "cell_type": "code",
   "execution_count": 6,
   "metadata": {},
   "outputs": [],
   "source": [
    "import pandas as pd\n",
    "from sklearn.preprocessing import LabelEncoder\n",
    "#TODO загрузить titanik 15 случайных человек и положить для каждого человека выжил он или нет\n",
    "data = pd.read_csv(\"../lecture_05_ml/notebooks/titanik.tsv\", sep='|', index_col=0)"
   ]
  },
  {
   "cell_type": "code",
   "execution_count": 8,
   "metadata": {},
   "outputs": [
    {
     "ename": "TypeError",
     "evalue": "mset() takes 2 positional arguments but 3 were given",
     "output_type": "error",
     "traceback": [
      "\u001b[0;31m---------------------------------------------------------------------------\u001b[0m",
      "\u001b[0;31mTypeError\u001b[0m                                 Traceback (most recent call last)",
      "\u001b[0;32m<ipython-input-8-e1e69c4e74e8>\u001b[0m in \u001b[0;36m<module>\u001b[0;34m\u001b[0m\n\u001b[0;32m----> 1\u001b[0;31m \u001b[0mr\u001b[0m\u001b[0;34m.\u001b[0m\u001b[0mmset\u001b[0m\u001b[0;34m(\u001b[0m\u001b[0mrange\u001b[0m\u001b[0;34m(\u001b[0m\u001b[0;36m15\u001b[0m\u001b[0;34m)\u001b[0m\u001b[0;34m,\u001b[0m\u001b[0;34m(\u001b[0m\u001b[0mdata\u001b[0m\u001b[0;34m.\u001b[0m\u001b[0mvalues\u001b[0m\u001b[0;34m[\u001b[0m\u001b[0;34m:\u001b[0m\u001b[0;36m15\u001b[0m\u001b[0;34m]\u001b[0m\u001b[0;34m)\u001b[0m\u001b[0;34m)\u001b[0m\u001b[0;34m\u001b[0m\u001b[0;34m\u001b[0m\u001b[0m\n\u001b[0m",
      "\u001b[0;31mTypeError\u001b[0m: mset() takes 2 positional arguments but 3 were given"
     ]
    }
   ],
   "source": [
    "r.mset(range(15),(data.values[:15]))"
   ]
  },
  {
   "cell_type": "markdown",
   "metadata": {},
   "source": [
    "Пишем сервис на flask. Механика сервиса: сервис нужен для агрегации стастики с боевой тачки.\n",
    "\n",
    "1) При старте шлется post /callme запрос с body={'ip': <ваш ip адрес в сети Technoatom>, 'port': <порт, на котором поднят сервис} на адрес <напишу на доске>. (НЕ забываем про заголовки =)\n",
    "\n",
    "2) На GET /check должна возвращаться 200-ка\n",
    "\n",
    "2) У вас должна быть создана таблица в titanik_db{} statistics c полями user_id VARCHAR (100), action INT4, timestamp timestamp. \n",
    "\n",
    "3) Ваш сервис должен уметь обрабатывать post запрос /stat, в body которого содержится {\"user\": <user_id>, \"action\": int4} и класть этот запрос в таблицу statistics с текущим timestamp. Записи о юзерах НЕ должны перетираться (юзер i может совершить действие k сколько угодно раз, просто в разное время)\n",
    "\n",
    "4) Ваш сервис должен уметь обрабатывать get заропс /stat, по которому должны отдаваться {\"user\": <user_id>, \"action\": <action , \"ts\": timestamp} последнего события, которое приходило к вам на сервис. Хранить их можно в редисе в дефолтной базе по ключу student{}stat "
   ]
  }
 ],
 "metadata": {
  "kernelspec": {
   "display_name": "Python 3",
   "language": "python",
   "name": "python3"
  },
  "language_info": {
   "codemirror_mode": {
    "name": "ipython",
    "version": 3
   },
   "file_extension": ".py",
   "mimetype": "text/x-python",
   "name": "python",
   "nbconvert_exporter": "python",
   "pygments_lexer": "ipython3",
   "version": "3.7.4+"
  }
 },
 "nbformat": 4,
 "nbformat_minor": 2
}
