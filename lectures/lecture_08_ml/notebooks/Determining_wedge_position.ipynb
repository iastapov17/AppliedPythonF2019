{
 "cells": [
  {
   "cell_type": "markdown",
   "metadata": {
    "colab_type": "text",
    "id": "hQ4Oxp5IbDUi"
   },
   "source": [
    "#**Determining wedge position status “ON/OFF”**\n"
   ]
  },
  {
   "cell_type": "markdown",
   "metadata": {
    "colab_type": "text",
    "id": "e3nkefakU9Dm"
   },
   "source": [
    "During the drilling operations, some manipulations with the drilling tool are constantly performed using a winch. In fact, one can always say that the drilling tool either hangs on the winch hook (and thereby its weight is unloaded by the hoist system of the drill), or is held by the wedges of the rotary shaft (and thereby the entire weight of the drilling tool is unloaded onto the rotary table and winch hook remains weight free).\n",
    "\n",
    "There is a need to determine the state where the weight of the tool is in wedges or aweight at any given time.\n",
    "\n",
    "\n",
    "The main parameter for this is the reading of the weight sensor on the hook. It seems that to determine the state you just need to know the current weight, the weight of the empty hook and compare them with each other. However, in practice this is not that easy. Weight indications are subject to dynamic short and long-term deviations. Sometimes it’s difficult even for a person to figure out what happens just by looking at the data. (but nevertheless, an experienced look highlights 99.9% of cases correctly).\n",
    "\n",
    "Some labeled examples are attached, that can be used for training."
   ]
  },
  {
   "cell_type": "code",
   "execution_count": null,
   "metadata": {
    "colab": {},
    "colab_type": "code",
    "id": "3jBKV1GRQXOa"
   },
   "outputs": [],
   "source": [
    "import os\n",
    "from zipfile import ZipFile\n",
    "from shutil import copy"
   ]
  },
  {
   "cell_type": "code",
   "execution_count": null,
   "metadata": {
    "colab": {
     "base_uri": "https://localhost:8080/",
     "height": 212
    },
    "colab_type": "code",
    "executionInfo": {
     "elapsed": 27390,
     "status": "ok",
     "timestamp": 1570634836054,
     "user": {
      "displayName": "Kate Lyapina",
      "photoUrl": "https://lh3.googleusercontent.com/a-/AAuE7mB1WqahLiFmlcVrOedtWVtCNpqttssukUcVaMxA=s64",
      "userId": "05329284849404952752"
     },
     "user_tz": -180
    },
    "id": "e1VqFQ06Q0oK",
    "outputId": "556a5aad-51a8-4790-95aa-5c7f7f09fde2"
   },
   "outputs": [],
   "source": [
    "fileName = \"../data/wedges.zip\"\n",
    "ds = ZipFile(fileName)\n",
    "ds.extractall()\n",
    "os.remove(fileName)\n",
    "print('Zip file is extracted')\n",
    "\n",
    "os.chdir('wedges')\n",
    "#Looking what is inside\n",
    "!ls -lah"
   ]
  },
  {
   "cell_type": "markdown",
   "metadata": {
    "colab_type": "text",
    "id": "XzFM87kbQTj9"
   },
   "source": [
    "**Definitions:**\n",
    "\n",
    "The state of the “ON” or “In wedges” position of the wedges is characterized by the absence of additional weight on the rig’s hook, that is, the “hook weight” sensor value is approximately (1) equals to the weight of the hook itself (“empty hook weight”, parameter FHW). This condition is possible when the drilling tool is fixed in the rotor with the help of wedges or when the tool is absent in the well (all is on the surface).\n",
    "\n",
    "---\n",
    "\n",
    "*(1) It is possible that on the hook there is an additional weight of one candle (~ 0.7 - 1 t) or one tube (~ 0.2 -0.3 t) of the drilling tool at those times when the candle is disconnected from the rest of the tool, but not yet installed in the rack.*\n",
    "\n",
    "---\n",
    "The state of the “OFF” or “aweight” wedges is characterized by the presence of additional weight on the rig’s hook, that is, the sensor ‘weight on hook’ is greater than the hook’s own weight (“empty hook weight”).\n",
    "\n"
   ]
  },
  {
   "cell_type": "code",
   "execution_count": null,
   "metadata": {
    "colab": {
     "base_uri": "https://localhost:8080/",
     "height": 735
    },
    "colab_type": "code",
    "id": "WlHoHo5kR6WY",
    "outputId": "61dedc3e-da76-4d2d-eb3e-5479c2434c4c"
   },
   "outputs": [],
   "source": [
    "from IPython.display import Image\n",
    "Image('desc.png')"
   ]
  },
  {
   "cell_type": "markdown",
   "metadata": {
    "colab_type": "text",
    "id": "SFvPkUfQEwOX"
   },
   "source": [
    "**Task:**\n",
    "\n",
    "It is a need to automatically determine the current state of the wedges position (“ON” or “OFF”).\n",
    "The task is complicated by the fact that the “hook weight” parameter sometimes varies significantly due to various short-term (from seconds to minutes) dynamic effects, such as tool movement, tightening / landing of the drilling tool, vibration of the drilling rig and drilling tool, electromagnetic interference, recalibration of the sensor, as well as long-term (from hours to several days) effects such as temperature drift of the sensor or loosening of the sensor mount.\n",
    "\n",
    "* SLIPS = ON, - in wedges\n",
    "* SLIPS = OFF, - aweight"
   ]
  },
  {
   "cell_type": "code",
   "execution_count": null,
   "metadata": {
    "colab": {},
    "colab_type": "code",
    "id": "LmeBw3cya62w"
   },
   "outputs": [],
   "source": [
    "%matplotlib inline\n",
    "import pandas as pd\n",
    "import numpy as np\n",
    "import matplotlib.pyplot as plt\n",
    "import seaborn as sns\n",
    "import datetime"
   ]
  },
  {
   "cell_type": "code",
   "execution_count": null,
   "metadata": {
    "colab": {},
    "colab_type": "code",
    "id": "3Fe8pCQya3fG"
   },
   "outputs": [],
   "source": [
    "data = pd.read_excel(r'Example_1.xlsx')\n",
    "data['example'] = 1\n",
    "data2 = pd.read_excel(r'Example_2.xlsx')\n",
    "data2['example'] = 2\n",
    "data3 = pd.read_excel(r'Example_3.xlsx')\n",
    "data3['example'] = 3\n",
    "data4 = pd.read_excel(r'Example_4.xlsx')\n",
    "data4['example'] = 4\n",
    "data5 = pd.read_excel(r'Example_5.xlsx')\n",
    "data5['example'] = 5\n",
    "\n",
    "data = pd.concat([data, data2, data3, data4, data5], sort = False)\n",
    "data = data.rename(columns = {\"Время\": \"date\",\n",
    "                              \"Положение талевого блока, м\": \"block_position\", \n",
    "                              \"Вес на крюке, т\": \"weight\",\n",
    "                              \"Нагрузка на долото, т\": \"rotor_load\",\n",
    "                              \"Обороты ротора, об/мин\": \"rotor_turn\",\n",
    "                              \"Мех. скорость, м/ч\": \"rotor_speed\",\n",
    "                              \"Давление на входе, кгс/см²\": \"preasure\",\n",
    "                              \n",
    "                              \"Расход на входе, л/мин\": \"entry_spend\",\n",
    "                              \"Глубина долота, м\": \"chisels_depth\",\n",
    "                              \"Глубина скважины, м\": \"wells_depth\",\n",
    "                             \n",
    "                              \"Положение талевого блока, м.1\": \"block_position.1\",\n",
    "                              \"Глубина скважины, м.1\": \"wells_depth.1\",\n",
    "                              \"Глубина долота, м.1\": \"chisels_depth.1\",       \n",
    "                             })"
   ]
  },
  {
   "cell_type": "code",
   "execution_count": null,
   "metadata": {
    "colab": {},
    "colab_type": "code",
    "id": "eU8kMFNYLH2f"
   },
   "outputs": [],
   "source": [
    "data.head()"
   ]
  },
  {
   "cell_type": "code",
   "execution_count": null,
   "metadata": {
    "colab": {},
    "colab_type": "code",
    "id": "-NrqYatma3fZ"
   },
   "outputs": [],
   "source": [
    "def converter(datestring):\n",
    "    res = datestring.split(' ')\n",
    "\n",
    "    for old, new in [('янв', '01'), ('фев', '02'), ('мар', '03'), ('апр.', '04'), \n",
    "                     ('мая', '05'), ('июн', '06'), ('июл', '07'), ('авг', '08'), \n",
    "                     ('сен', '09'), ('окт', '10'), ('ноя', '11'), ('дек', '12')]:\n",
    "        res[1] = res[1].replace(old, new)\n",
    "    \n",
    "    result = '2019' + \"-\" + res[1]  + \"-\" + res[0] + ' ' + res[2]\n",
    "    return result\n",
    "\n",
    "data['date'] = data['date'].apply(converter)\n",
    "data[\"date\"] = pd.to_datetime(data[\"date\"])\n",
    "data['SLIPS'] = data['SLIPS'].str.contains('ON').astype(bool)"
   ]
  },
  {
   "cell_type": "markdown",
   "metadata": {
    "colab_type": "text",
    "id": "Roq8J-SL_tWF"
   },
   "source": [
    "\n",
    "Check:\n",
    "* Data Types\n",
    "* Shape of the dataset\n",
    "* Null values - identify the columns to drop based on the % of missing values\n",
    "* Distribution of values for each variable\n",
    "* Check if some variables have identical values\n",
    "* Drop redundant/useless data from the dataset\n"
   ]
  },
  {
   "cell_type": "code",
   "execution_count": null,
   "metadata": {
    "colab": {},
    "colab_type": "code",
    "id": "HEnKuQXpKFMx"
   },
   "outputs": [],
   "source": [
    "#YOUR CODE HERE"
   ]
  },
  {
   "cell_type": "code",
   "execution_count": null,
   "metadata": {
    "colab": {},
    "colab_type": "code",
    "id": "cfhMyt5qa3fm",
    "outputId": "c40c8cef-a53c-45e3-f634-834d00a86b59"
   },
   "outputs": [],
   "source": [
    "#Show data once again\n",
    "data.head()"
   ]
  }
 ],
 "metadata": {
  "colab": {
   "collapsed_sections": [],
   "name": "Determining_wedge_position.ipynb",
   "provenance": []
  },
  "kernelspec": {
   "display_name": "Python 3",
   "language": "python",
   "name": "python3"
  },
  "language_info": {
   "codemirror_mode": {
    "name": "ipython",
    "version": 3
   },
   "file_extension": ".py",
   "mimetype": "text/x-python",
   "name": "python",
   "nbconvert_exporter": "python",
   "pygments_lexer": "ipython3",
   "version": "3.7.4"
  }
 },
 "nbformat": 4,
 "nbformat_minor": 1
}
